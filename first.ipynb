{
 "cells": [
  {
   "cell_type": "code",
   "execution_count": 3,
   "metadata": {
    "collapsed": true
   },
   "outputs": [],
   "source": [
    "# -*- coding: utf-8 -*-\n",
    "import numpy as np\n",
    "import pandas as pd\n"
   ]
  },
  {
   "cell_type": "code",
   "execution_count": 9,
   "metadata": {
    "collapsed": false,
    "scrolled": true
   },
   "outputs": [],
   "source": [
    "shop_behavior_path = \"F:\\\\Competitions\\\\Tianchi\\\\data\\\\ccf_first_round_user_shop_behavior.csv\"\n",
    "shop_behavior_df =pd.read_csv(shop_behavior_path,nrows = 10) "
   ]
  },
  {
   "cell_type": "code",
   "execution_count": 10,
   "metadata": {
    "collapsed": false
   },
   "outputs": [
    {
     "name": "stdout",
     "output_type": "stream",
     "text": [
      "Index([u'user_id', u'shop_id', u'time_stamp', u'longitude', u'latitude',\n",
      "       u'wifi_infos'],\n",
      "      dtype='object')\n"
     ]
    }
   ],
   "source": [
    "print(shop_behavior_df.columns)\n",
    "wifi_infos = shop_behavior_df.loc[:,[\"user_id\",\"wifi_infos\"]]"
   ]
  },
  {
   "cell_type": "code",
   "execution_count": 12,
   "metadata": {
    "collapsed": false
   },
   "outputs": [
    {
     "name": "stdout",
     "output_type": "stream",
     "text": [
      "['b_6396480|-67|false', 'b_41124514|-86|false', 'b_28723327|-90|false', 'b_6396479|-55|false', 'b_8764723|-90|false', 'b_32053319|-74|false', 'b_5857370|-68|false', 'b_56326644|-89|false', 'b_56328155|-77|false', 'b_5857369|-55|false']\n",
      "['b_6396480|-67|false', 'b_56328155|-73|false', 'b_41124514|-88|false', 'b_56328154|-73|false', 'b_56326319|-84|false', 'b_32053319|-83|false', 'b_5857370|-68|false', 'b_6396479|-57|false', 'b_31100514|-89|false', 'b_5857369|-57|false']\n",
      "['b_8006367|-78|false', 'b_2485110|-52|false', 'b_30058118|-69|false', 'b_8006442|-71|false', 'b_33503892|-56|false', 'b_33503917|-63|false', 'b_27390312|-72|false', 'b_8006521|-74|false', 'b_35013153|-56|false', 'b_37608251|-84|false']\n",
      "['b_26250579|-73|false', 'b_26250580|-64|false', 'b_26250581|-64|false', 'b_26250516|-77|false', 'b_52934996|-79|false', 'b_26250593|-81|false', 'b_26250517|-76|false', 'b_30424471|-60|false', 'b_26250578|-72|false', 'b_29510856|-80|false']\n",
      "['b_39004150|-66|false', 'b_39004148|-58|false', 'b_21685905|-90|false', 'b_1053646|-87|false', 'b_54466444|-86|false', 'b_21685851|-82|false', 'b_21685852|-81|false', 'b_6805211|-80|false', 'b_1845687|-72|false', 'b_21685901|-91|false']\n",
      "['b_13784698|-75|false', 'b_7390858|-86|false', 'b_35861781|-78|false', 'b_2971974|-71|false', 'b_44402483|-71|false', 'b_12135674|-71|false', 'b_31160049|-59|false', 'b_21608835|-44|false', 'b_13784697|-71|false', 'b_19272603|-72|false']\n",
      "['b_975810|-33|true', 'b_975807|-41|false', 'b_35063048|-64|false', 'b_48005749|-46|false', 'b_12201872|-75|false', 'b_975809|-37|false', 'b_53066760|-70|false', 'b_7695545|-41|false', 'b_12363015|-82|false', 'b_32391921|-64|false']\n",
      "['b_15263246|-67|false', 'b_10120963|-76|false', 'b_41313117|-78|false', 'b_25674211|-75|false', 'b_13067253|-60|false', 'b_25781349|-68|false', 'b_25781993|-60|true', 'b_44597733|-61|false', 'b_37971796|-61|false', 'b_37749132|-67|false']\n",
      "['b_37749132|-77|false', 'b_25781349|-63|false', 'b_25781979|-83|false', 'b_15263246|-68|false', 'b_25674211|-79|false', 'b_25781123|-70|false', 'b_25781993|-59|true', 'b_42938093|-34|false', 'b_18696482|-73|false', 'b_23648596|-63|false']\n",
      "['b_39846139|-73|false', 'b_25673942|-61|false', 'b_25674264|-59|false', 'b_25674236|-51|false', 'b_23353721|-61|false', 'b_23638651|-61|false', 'b_23354547|-64|false', 'b_15263246|-68|false', 'b_20903796|-64|false', 'b_47362601|-63|false']\n"
     ]
    }
   ],
   "source": [
    "for line in wifi_infos[\"wifi_infos\"]:\n",
    "    wifi_list = line.split(\";\")\n",
    "    print(wifi_list)"
   ]
  },
  {
   "cell_type": "code",
   "execution_count": null,
   "metadata": {
    "collapsed": true
   },
   "outputs": [],
   "source": []
  }
 ],
 "metadata": {
  "kernelspec": {
   "display_name": "Python 2",
   "language": "python",
   "name": "python2"
  },
  "language_info": {
   "codemirror_mode": {
    "name": "ipython",
    "version": 2
   },
   "file_extension": ".py",
   "mimetype": "text/x-python",
   "name": "python",
   "nbconvert_exporter": "python",
   "pygments_lexer": "ipython2",
   "version": "2.7.13"
  }
 },
 "nbformat": 4,
 "nbformat_minor": 2
}
